{
 "cells": [
  {
   "cell_type": "code",
   "execution_count": 1,
   "id": "d75a3647",
   "metadata": {},
   "outputs": [],
   "source": [
    " def search4vowels(phrase:str)->set:  \n",
    "        \"\"\"return any vowels found in the supplied phrase\"\"\"\n",
    "        vowels = set('aeiou')   \n",
    "        return vowels.intersection(set(phrase))  \n",
    "    \n",
    "def search4letters(phrase:str,letters:str='aeiou')->set:\n",
    "    \"\"\"return a set of letters found in the phrase\"\"\"\n",
    "    return set(letters).intersection(set(phrase))\n",
    "        "
   ]
  },
  {
   "cell_type": "code",
   "execution_count": 5,
   "id": "07cc18cf",
   "metadata": {},
   "outputs": [
    {
     "data": {
      "text/plain": [
       "{'a', 'n', 'o', 'r'}"
      ]
     },
     "execution_count": 5,
     "metadata": {},
     "output_type": "execute_result"
    }
   ],
   "source": [
    "search4letters('cristiano','ronaldo')"
   ]
  },
  {
   "cell_type": "code",
   "execution_count": null,
   "id": "5c8b11c4",
   "metadata": {},
   "outputs": [],
   "source": []
  }
 ],
 "metadata": {
  "kernelspec": {
   "display_name": "Python 3",
   "language": "python",
   "name": "python3"
  },
  "language_info": {
   "codemirror_mode": {
    "name": "ipython",
    "version": 3
   },
   "file_extension": ".py",
   "mimetype": "text/x-python",
   "name": "python",
   "nbconvert_exporter": "python",
   "pygments_lexer": "ipython3",
   "version": "3.9.4"
  }
 },
 "nbformat": 4,
 "nbformat_minor": 5
}
